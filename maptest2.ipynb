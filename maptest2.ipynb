{
  "nbformat": 4,
  "nbformat_minor": 0,
  "metadata": {
    "colab": {
      "private_outputs": true,
      "provenance": [],
      "authorship_tag": "ABX9TyMIVnxpCi4Mqkojbs3VE/hX",
      "include_colab_link": true
    },
    "kernelspec": {
      "name": "python3",
      "display_name": "Python 3"
    },
    "language_info": {
      "name": "python"
    }
  },
  "cells": [
    {
      "cell_type": "markdown",
      "metadata": {
        "id": "view-in-github",
        "colab_type": "text"
      },
      "source": [
        "<a href=\"https://colab.research.google.com/github/team0243/practic/blob/main/maptest2.ipynb\" target=\"_parent\"><img src=\"https://colab.research.google.com/assets/colab-badge.svg\" alt=\"Open In Colab\"/></a>"
      ]
    },
    {
      "cell_type": "code",
      "execution_count": null,
      "metadata": {
        "id": "9MdSj1Q-Pqkj"
      },
      "outputs": [],
      "source": [
        "import pandas as pd    # pandas ใช้จัดการข้อมูลที่เป็นตาราง\n",
        "import os # os ใช้จัดการกับไฟล์ ว่าอยู่ที่ไหน\n",
        "import folium\n",
        "from folium import plugins\n",
        "from folium.plugins import Search\n"
      ]
    },
    {
      "cell_type": "code",
      "source": [
        "from google.colab import drive      # ชี้ไฟล์ที่อยู่ใน google drive เพื่อเชื่อมต่อไฟล์\n",
        "drive.mount('/content/drive')\n",
        "path =  '/content/drive/My Drive/map' "
      ],
      "metadata": {
        "id": "lAOyZhCgPzvj"
      },
      "execution_count": null,
      "outputs": []
    },
    {
      "cell_type": "code",
      "source": [
        "# read data from csv file\n",
        "data_file_path = os.path.join(path,'data.csv')   # ดึงไฟล์จากไดร์ฟที่เราต้องการ\n",
        "df = pd.read_csv(data_file_path)   # อ่านไฟล์ csv\n",
        "df"
      ],
      "metadata": {
        "id": "WcD_nQoiP1TL"
      },
      "execution_count": null,
      "outputs": []
    },
    {
      "cell_type": "code",
      "source": [
        "# create map object\n",
        "m = folium.Map(location=[16.43908906, 102.789062], zoom_start=13)"
      ],
      "metadata": {
        "id": "2V9ylw9GP_vz"
      },
      "execution_count": null,
      "outputs": []
    },
    {
      "cell_type": "code",
      "source": [
        "for index, row in df.iterrows():\n",
        "    popup_html = '<a href=\"{0}\" target=\"_blank\"><img src=\"{1}\" alt=\"{2}\" width=\"100px\"/></a><br/><b>{3}:</b> {4} <br/><b>{5}: </b> {6}'.format(row['Name'], row['Image'], row['Name'], 'Longitude ', row['Longitude'], 'Latitude ', row['Latitude'])\n",
        "    tooltip_html = '<strong>{0}</strong>'.format(row['property_type']) \n",
        "    folium.Marker(location=[row['Latitude'], row['Longitude']], popup=folium.Popup(html=popup_html), tooltip=tooltip_html,icon=folium.Icon(color='blue', icon='home')).add_to(m)"
      ],
      "metadata": {
        "id": "UUMG6fdk_Xs7"
      },
      "execution_count": null,
      "outputs": []
    },
    {
      "cell_type": "code",
      "source": [
        "m"
      ],
      "metadata": {
        "id": "kQO6AI_bQefE"
      },
      "execution_count": null,
      "outputs": []
    }
  ]
}