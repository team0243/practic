{
  "nbformat": 4,
  "nbformat_minor": 0,
  "metadata": {
    "colab": {
      "private_outputs": true,
      "provenance": [],
      "authorship_tag": "ABX9TyPodVfSHrBgU37nPYW6P7H3",
      "include_colab_link": true
    },
    "kernelspec": {
      "name": "python3",
      "display_name": "Python 3"
    },
    "language_info": {
      "name": "python"
    }
  },
  "cells": [
    {
      "cell_type": "markdown",
      "metadata": {
        "id": "view-in-github",
        "colab_type": "text"
      },
      "source": [
        "<a href=\"https://colab.research.google.com/github/team0243/practic/blob/main/Classification_Model.ipynb\" target=\"_parent\"><img src=\"https://colab.research.google.com/assets/colab-badge.svg\" alt=\"Open In Colab\"/></a>"
      ]
    },
    {
      "cell_type": "markdown",
      "source": [
        "# Data Preparation"
      ],
      "metadata": {
        "id": "QSGCFhqYCltc"
      }
    },
    {
      "cell_type": "code",
      "execution_count": null,
      "metadata": {
        "id": "74PYxGyt_Xgk"
      },
      "outputs": [],
      "source": [
        "import numpy as np\n",
        "import pandas as pd\n",
        "import matplotlib.pyplot as plt\n",
        "import sklearn.datasets as datasets\n",
        "%pylab inline"
      ]
    },
    {
      "cell_type": "markdown",
      "source": [
        "# **Import iris Dataset**"
      ],
      "metadata": {
        "id": "s_gtIpXmBaMm"
      }
    },
    {
      "cell_type": "code",
      "source": [
        "iris = datasets.load_iris()\n",
        "XX = pd.DataFrame(iris.data, columns=iris.feature_names)\n",
        "yy = pd.DataFrame(iris.target)"
      ],
      "metadata": {
        "id": "KPih6TGRBQG-"
      },
      "execution_count": null,
      "outputs": []
    },
    {
      "cell_type": "code",
      "source": [
        "df = pd.DataFrame(iris.data, columns=iris.feature_names)\n",
        "df.head()"
      ],
      "metadata": {
        "id": "BHwAc7eHEmPj"
      },
      "execution_count": null,
      "outputs": []
    },
    {
      "cell_type": "code",
      "source": [
        "df.shape\n",
        "df.info()"
      ],
      "metadata": {
        "id": "ThKR15X0GxNX"
      },
      "execution_count": null,
      "outputs": []
    },
    {
      "cell_type": "code",
      "source": [
        "XX"
      ],
      "metadata": {
        "id": "XXEzMFZXBSBt"
      },
      "execution_count": null,
      "outputs": []
    },
    {
      "cell_type": "code",
      "source": [
        "yy"
      ],
      "metadata": {
        "id": "aOUYm3qqEdd8"
      },
      "execution_count": null,
      "outputs": []
    },
    {
      "cell_type": "code",
      "source": [
        "from sklearn.model_selection import train_test_split\n",
        "\n",
        "X_train, X_test, y_train, y_test = train_test_split(XX, yy, test_size=0.3, random_state=0)\n",
        "\n",
        "print('There are {} samples in the training set and {} samples in the test set'.format(X_train.shape[0], X_test.shape[0]))\n"
      ],
      "metadata": {
        "id": "z7PYaPNOBzvl"
      },
      "execution_count": null,
      "outputs": []
    },
    {
      "cell_type": "markdown",
      "source": [
        "# Create standardization"
      ],
      "metadata": {
        "id": "1ZBsX26UCOQc"
      }
    },
    {
      "cell_type": "code",
      "source": [
        "from sklearn.preprocessing import StandardScaler\n",
        "from sklearn.model_selection import cross_val_score"
      ],
      "metadata": {
        "id": "3CFCtqxqCC3s"
      },
      "execution_count": null,
      "outputs": []
    },
    {
      "cell_type": "code",
      "source": [
        "sc = StandardScaler()\n",
        "sc.fit(X_train)\n",
        "X_train_std = sc.transform(X_train)\n",
        "X_test_std = sc.transform(X_test)"
      ],
      "metadata": {
        "id": "GVYHYlldCOAV"
      },
      "execution_count": null,
      "outputs": []
    },
    {
      "cell_type": "markdown",
      "source": [
        "# supervised learning model classification"
      ],
      "metadata": {
        "id": "At1b47taCuU7"
      }
    },
    {
      "cell_type": "markdown",
      "source": [
        "## Support Vector Machine (SVM) ##"
      ],
      "metadata": {
        "id": "ZtporzH_Cn92"
      }
    },
    {
      "cell_type": "code",
      "source": [
        "#Applying SVC (Support Vector Classification)\n",
        "from sklearn.svm import SVC\n",
        "\n",
        "svm = SVC(kernel='rbf', random_state=0, gamma=.10, C=1.0)\n",
        "svm.fit(X_train_std, y_train)\n",
        "\n",
        "print('The accuracy of the SVM classifier on training data is {:.2f}'.format(svm.score(X_train_std, y_train)))\n",
        "print('The accuracy of the SVM classifier on test data is {:.2f}'.format(svm.score(X_test_std, y_test)))"
      ],
      "metadata": {
        "id": "0k7MFlrJCqxV"
      },
      "execution_count": null,
      "outputs": []
    },
    {
      "cell_type": "markdown",
      "source": [
        "## k-Nearest Neighbors (k-NN) ##"
      ],
      "metadata": {
        "id": "bnAsdqliDVYM"
      }
    },
    {
      "cell_type": "code",
      "source": [
        "#Applying Knn\n",
        "from sklearn.neighbors import KNeighborsClassifier\n",
        "\n",
        "knn = KNeighborsClassifier(n_neighbors = 7, p = 2, metric='minkowski')\n",
        "knn.fit(X_train_std, y_train)\n",
        "\n",
        "print('The accuracy of the Knn classifier on training data is {:.2f}'.format(knn.score(X_train_std, y_train)))\n",
        "print('The accuracy of the Knn classifier on test data is {:.2f}'.format(knn.score(X_test_std, y_test)))"
      ],
      "metadata": {
        "id": "tCFGBaFaDMKF"
      },
      "execution_count": null,
      "outputs": []
    },
    {
      "cell_type": "markdown",
      "source": [
        "## XGBoost ##"
      ],
      "metadata": {
        "id": "42u8dd6hDejH"
      }
    },
    {
      "cell_type": "code",
      "source": [
        "#Applying XGBoost\n",
        "import xgboost as xgb\n",
        "\n",
        "xgb_clf = xgb.XGBClassifier()\n",
        "xgb_clf = xgb_clf.fit(X_train_std, y_train)\n",
        "\n",
        "print('The accuracy of the XGBoost classifier on training data is {:.2f}'.format(xgb_clf.score(X_train_std, y_train)))\n",
        "print('The accuracy of the XGBoost classifier on test data is {:.2f}'.format(xgb_clf.score(X_test_std, y_test)))"
      ],
      "metadata": {
        "id": "w4llAl5ZD7yd"
      },
      "execution_count": null,
      "outputs": []
    },
    {
      "cell_type": "markdown",
      "source": [
        "## Decision Tree ##"
      ],
      "metadata": {
        "id": "YPf7NUMrEHw7"
      }
    },
    {
      "cell_type": "code",
      "source": [
        "#Applying Decision Tree\n",
        "from sklearn import tree\n",
        "\n",
        "#Create tree object\n",
        "decision_tree = tree.DecisionTreeClassifier(criterion='gini')\n",
        "\n",
        "#Train DT based on scaled training set\n",
        "decision_tree.fit(X_train_std, y_train)\n",
        "\n",
        "#Print performance\n",
        "print('The accuracy of the Decision Tree classifier on training data is {:.2f}'.format(decision_tree.score(X_train_std, y_train)))\n",
        "print('The accuracy of the Decision Tree classifier on test data is {:.2f}'.format(decision_tree.score(X_test_std, y_test)))"
      ],
      "metadata": {
        "id": "yRE12XSbEJFU"
      },
      "execution_count": null,
      "outputs": []
    },
    {
      "cell_type": "markdown",
      "source": [
        "## Random Forest ##"
      ],
      "metadata": {
        "id": "gkP-5BEyIKP9"
      }
    },
    {
      "cell_type": "code",
      "source": [
        "#Applying RandomForest\n",
        "from sklearn.ensemble import RandomForestClassifier\n",
        "\n",
        "#Create Random Forest object\n",
        "random_forest = RandomForestClassifier()\n",
        "\n",
        "#Train model\n",
        "random_forest.fit(X_train_std, y_train)\n",
        "\n",
        "#Print performance\n",
        "print('The accuracy of the Random Forest classifier on training data is {:.2f}'.format(random_forest.score(X_train_std, y_train)))\n",
        "print('The accuracy of the Random Forest classifier on test data is {:.2f}'.format(random_forest.score(X_test_std, y_test)))"
      ],
      "metadata": {
        "id": "tCKHGDVgIKhL"
      },
      "execution_count": null,
      "outputs": []
    },
    {
      "cell_type": "markdown",
      "source": [
        "## Neural Network ##"
      ],
      "metadata": {
        "id": "IgjmPJk9IPx2"
      }
    },
    {
      "cell_type": "code",
      "source": [
        "#Neural Network Classification\n",
        "import matplotlib.pyplot as plt\n",
        "import seaborn as sns\n",
        "import numpy as np\n",
        "from sklearn.model_selection import train_test_split\n",
        "\n",
        "!pip install keras\n",
        "from keras.models import Sequential\n",
        "from keras.layers import Dense, Activation # Import layers directly from keras.layers\n",
        "from keras.utils import to_categorical # Use to_categorical instead of np_utils"
      ],
      "metadata": {
        "id": "IpQGkVRIIQKN"
      },
      "execution_count": null,
      "outputs": []
    },
    {
      "cell_type": "code",
      "source": [
        "iris = sns.load_dataset(\"iris\")\n",
        "sns.pairplot(iris, hue='species')"
      ],
      "metadata": {
        "id": "bupifIaNJQnm"
      },
      "execution_count": null,
      "outputs": []
    },
    {
      "cell_type": "code",
      "source": [
        "X=iris.values[:,:4]\n",
        "y=iris.values[:,4]\n",
        "\n",
        "X_train,X_test,y_train,y_test=train_test_split(X,y,train_size=0.5,random_state=1)"
      ],
      "metadata": {
        "id": "q1vUHtlVJ6VV"
      },
      "execution_count": null,
      "outputs": []
    },
    {
      "cell_type": "code",
      "source": [
        "def one_hot_encode_object_array(arr):\n",
        "    '''One hot encode a numpy array of objects'''\n",
        "    uniques, ids = np.unique(arr, return_inverse=True)\n",
        "    return to_categorical(ids, len(uniques))\n",
        "\n",
        "y_train_ohe=one_hot_encode_object_array(y_train)\n",
        "y_test_ohe=one_hot_encode_object_array(y_test)"
      ],
      "metadata": {
        "id": "HqPRQOJJKAG3"
      },
      "execution_count": null,
      "outputs": []
    },
    {
      "cell_type": "code",
      "source": [
        "model=Sequential()\n",
        "\n",
        "model.add(Dense(16,input_shape=(4,)))\n",
        "model.add(Activation(\"sigmoid\"))\n",
        "\n",
        "model.add(Dense(3))\n",
        "model.add(Activation(\"softmax\"))\n",
        "\n",
        "model.compile(optimizer=\"adam\",loss=\"categorical_crossentropy\",metrics=[\"accuracy\"])"
      ],
      "metadata": {
        "id": "7umMdNQMMspH"
      },
      "execution_count": null,
      "outputs": []
    },
    {
      "cell_type": "code",
      "source": [
        "model.summary()"
      ],
      "metadata": {
        "id": "qxS4c7w8MuzG"
      },
      "execution_count": null,
      "outputs": []
    },
    {
      "cell_type": "code",
      "source": [
        "model.fit(X_train,y_train_ohe,epochs=20,batch_size=1,verbose=1) # Use 'epochs' instead of 'epoch'\n",
        "\n",
        "loss, accuracy = model.evaluate(X_test, y_test_ohe, verbose=1)\n",
        "print(\"The accuracy of the Neural Network classifier on test data is = {:.2f}\".format(accuracy))"
      ],
      "metadata": {
        "id": "LLKOyf8KM5Wf"
      },
      "execution_count": null,
      "outputs": []
    },
    {
      "cell_type": "code",
      "source": [
        "# Convert input data to float32\n",
        "X_train = X_train.astype(np.float32)\n",
        "y_train_ohe = y_train_ohe.astype(np.float32)\n",
        "X_test = X_test.astype(np.float32)\n",
        "y_test_ohe = y_test_ohe.astype(np.float32)\n",
        "\n",
        "model.fit(X_train,y_train_ohe,epochs=200,batch_size=1,verbose=1) # Use 'epochs' instead of 'epoch'\n"
      ],
      "metadata": {
        "id": "11RBC_hrN6NH"
      },
      "execution_count": null,
      "outputs": []
    },
    {
      "cell_type": "code",
      "source": [
        "loss, accuracy = model.evaluate(X_test, y_test_ohe, verbose=1)\n",
        "print(\"The accuracy of the Neural Network classifier on test data is = {:.2f}\".format(accuracy))"
      ],
      "metadata": {
        "id": "TiONj9nSOObl"
      },
      "execution_count": null,
      "outputs": []
    },
    {
      "cell_type": "code",
      "source": [],
      "metadata": {
        "id": "ec8KatDvO0VG"
      },
      "execution_count": null,
      "outputs": []
    },
    {
      "cell_type": "markdown",
      "source": [
        "## Decision Tree ##"
      ],
      "metadata": {
        "id": "Sj_dD6oHO8IB"
      }
    },
    {
      "cell_type": "code",
      "source": [
        "from six import StringIO\n",
        "from IPython.display import Image\n",
        "from sklearn.tree import export_graphviz\n",
        "import pydotplus"
      ],
      "metadata": {
        "id": "TR10rAAsO-L4"
      },
      "execution_count": null,
      "outputs": []
    },
    {
      "cell_type": "code",
      "source": [
        "dot_data = StringIO()\n",
        "export_graphviz(decision_tree, out_file=dot_data,\n",
        " filled=True, rounded=True,\n",
        " special_characters=True)\n",
        "graph = pydotplus.graph_from_dot_data(dot_data.getvalue())\n",
        "Image(graph.create_png())"
      ],
      "metadata": {
        "id": "DZFsuryOPHCI"
      },
      "execution_count": null,
      "outputs": []
    },
    {
      "cell_type": "code",
      "source": [],
      "metadata": {
        "id": "eiByxtRkPCLw"
      },
      "execution_count": null,
      "outputs": []
    }
  ]
}