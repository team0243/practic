{
  "nbformat": 4,
  "nbformat_minor": 0,
  "metadata": {
    "colab": {
      "private_outputs": true,
      "provenance": [],
      "authorship_tag": "ABX9TyMgzocpfmJ5BweO7L+xtGkS",
      "include_colab_link": true
    },
    "kernelspec": {
      "name": "python3",
      "display_name": "Python 3"
    },
    "language_info": {
      "name": "python"
    }
  },
  "cells": [
    {
      "cell_type": "markdown",
      "metadata": {
        "id": "view-in-github",
        "colab_type": "text"
      },
      "source": [
        "<a href=\"https://colab.research.google.com/github/team0243/practic/blob/main/map_test.ipynb\" target=\"_parent\"><img src=\"https://colab.research.google.com/assets/colab-badge.svg\" alt=\"Open In Colab\"/></a>"
      ]
    },
    {
      "cell_type": "code",
      "execution_count": null,
      "metadata": {
        "id": "8payFWmjrin2"
      },
      "outputs": [],
      "source": [
        "import pandas as pd\n",
        "import folium"
      ]
    },
    {
      "cell_type": "code",
      "source": [
        "from folium import plugins"
      ],
      "metadata": {
        "id": "TckmRpF4xS11"
      },
      "execution_count": null,
      "outputs": []
    },
    {
      "cell_type": "code",
      "source": [
        "# read data from csv file\n",
        "data = pd.read_csv('data.csv')\n",
        "\n",
        "# create map object\n",
        "m = folium.Map(location=[data['Latitude'].mean(), data['Longitude'].mean()], zoom_start=10)\n",
        "\n",
        "# add markers to the map\n",
        "for index, row in data.iterrows():\n",
        "    folium.Marker(location=[row['Latitude'], row['Longitude']], popup=row['Name'],icon=folium.Icon(color='blue', icon='home')).add_to(m)\n",
        "\n",
        "\n",
        "# save map\n",
        "#m.save('map.html')"
      ],
      "metadata": {
        "id": "DW7lge7trso1"
      },
      "execution_count": null,
      "outputs": []
    },
    {
      "cell_type": "code",
      "source": [
        "features = plugins.FeatureGroupSubGroup(m, 'Name','District')\n",
        "m.add_child(features)"
      ],
      "metadata": {
        "id": "AwPbQjaQxJR-"
      },
      "execution_count": null,
      "outputs": []
    },
    {
      "cell_type": "code",
      "source": [
        "# add filter control to map\n",
        "m.add_child(plugins.FeatureGroupSubGroup(m, 'Name','District', features))"
      ],
      "metadata": {
        "id": "76C4X_tpxffk"
      },
      "execution_count": null,
      "outputs": []
    },
    {
      "cell_type": "code",
      "source": [
        "# add layer control to map\n",
        "folium.LayerControl().add_to(m)"
      ],
      "metadata": {
        "id": "Rx7SEB79xnR8"
      },
      "execution_count": null,
      "outputs": []
    },
    {
      "cell_type": "code",
      "source": [
        "#Display the map\n",
        "m\n"
      ],
      "metadata": {
        "id": "S4MPeW4Or7Uh"
      },
      "execution_count": null,
      "outputs": []
    }
  ]
}