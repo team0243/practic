{
  "nbformat": 4,
  "nbformat_minor": 0,
  "metadata": {
    "colab": {
      "private_outputs": true,
      "provenance": [],
      "authorship_tag": "ABX9TyOnN+HlpjXhr387nD59ZUYy",
      "include_colab_link": true
    },
    "kernelspec": {
      "name": "python3",
      "display_name": "Python 3"
    },
    "language_info": {
      "name": "python"
    }
  },
  "cells": [
    {
      "cell_type": "markdown",
      "metadata": {
        "id": "view-in-github",
        "colab_type": "text"
      },
      "source": [
        "<a href=\"https://colab.research.google.com/github/team0243/practic/blob/main/map_test.ipynb\" target=\"_parent\"><img src=\"https://colab.research.google.com/assets/colab-badge.svg\" alt=\"Open In Colab\"/></a>"
      ]
    },
    {
      "cell_type": "code",
      "execution_count": null,
      "metadata": {
        "id": "8payFWmjrin2"
      },
      "outputs": [],
      "source": [
        "import pandas as pd    # pandas ใช้จัดการข้อมูลที่เป็นตาราง\n",
        "import os # os ใช้จัดการกับไฟล์ ว่าอยู่ที่ไหน\n",
        "import folium"
      ]
    },
    {
      "cell_type": "code",
      "source": [
        "from folium import plugins\n",
        "from folium.plugins import Search\n"
      ],
      "metadata": {
        "id": "TckmRpF4xS11"
      },
      "execution_count": null,
      "outputs": []
    },
    {
      "cell_type": "code",
      "source": [
        "from google.colab import drive      # ชี้ไฟล์ที่อยู่ใน google drive เพื่อเชื่อมต่อไฟล์\n",
        "drive.mount('/content/drive')\n",
        "path =  '/content/drive/My Drive/map'    # ชี้ dirve ที่เราต้องการ"
      ],
      "metadata": {
        "id": "KKVsEdtgw839"
      },
      "execution_count": null,
      "outputs": []
    },
    {
      "cell_type": "code",
      "source": [
        "# read data from csv file\n",
        "data_file_path = os.path.join(path,'data.csv')   # ดึงไฟล์จากไดร์ฟที่เราต้องการ\n",
        "data = pd.read_csv(data_file_path)   # อ่านไฟล์ csv\n",
        "data"
      ],
      "metadata": {
        "id": "_NuwVkCsxcY9"
      },
      "execution_count": null,
      "outputs": []
    },
    {
      "cell_type": "code",
      "source": [
        "\n",
        "# create map object\n",
        "map_layer_contral = folium.Map(location=[data['Latitude'].mean(), data['Longitude'].mean()], zoom_start=10)\n",
        "\n",
        "# add markers to the map\n",
        "for index, row in data.iterrows():\n",
        "    folium.Marker(location=[row.loc['Latitude'], row.loc['Longitude']], \n",
        "        popup='<b>'+\"<br>\"+\"data\"+\"</br>\"+'</b>'+''+'<b>'+\"อำเภอ:\"+'</b>'+row.loc['District']+''+' '+'<b>'+\"ราคา:\"+'</b>'+ row.loc[\"Sell_price\"]+''+' '+'<b>'+\"Link:\"+'</b>'+ row.loc[\"Name\"],\n",
        "       # popup = \"<a herf=row.loc[Name]>\"Link\"</a>\", \n",
        "        tooltip='click',\n",
        "        icon=folium.Icon(color='blue', icon='home')).add_to(map_layer_contral)\n",
        "\n",
        "\n",
        "# save map\n",
        "#m.save('map.html')"
      ],
      "metadata": {
        "id": "DW7lge7trso1"
      },
      "execution_count": null,
      "outputs": []
    },
    {
      "cell_type": "code",
      "source": [
        "map_layer_contral"
      ],
      "metadata": {
        "id": "d1Hcr2k32lHu"
      },
      "execution_count": null,
      "outputs": []
    },
    {
      "cell_type": "code",
      "source": [
        "# create filter control\n",
        "features = plugins.FeatureGroupSubGroup(map_layer_contral, 'District')\n",
        "map_layer_contral.add_child(features)\n",
        "\n",
        "\n",
        "# add filter control to map\n",
        "map_layer_contral.add_child(plugins.FeatureGroupSubGroup(map_layer_contral, 'District', features))\n",
        "\n",
        "# add layer control to map\n",
        "folium.LayerControl().add_to(map_layer_contral)\n"
      ],
      "metadata": {
        "id": "bOUaa69L63KN"
      },
      "execution_count": null,
      "outputs": []
    },
    {
      "cell_type": "code",
      "source": [
        "map_layer_contral"
      ],
      "metadata": {
        "id": "1gwndZ_J7ETF"
      },
      "execution_count": null,
      "outputs": []
    }
  ]
}